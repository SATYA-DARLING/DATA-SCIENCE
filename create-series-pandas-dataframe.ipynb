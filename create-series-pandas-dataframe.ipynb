{
 "cells": [
  {
   "cell_type": "markdown",
   "id": "c1f14222",
   "metadata": {
    "id": "ur5wIFOPKwYU",
    "papermill": {
     "duration": 0.006005,
     "end_time": "2023-05-10T10:20:26.262088",
     "exception": false,
     "start_time": "2023-05-10T10:20:26.256083",
     "status": "completed"
    },
    "tags": []
   },
   "source": [
    "# **[www.ybifoundation.org](https://www.ybifoundation.org/)**"
   ]
  },
  {
   "cell_type": "markdown",
   "id": "944bd051",
   "metadata": {
    "id": "-gds41mcON20",
    "papermill": {
     "duration": 0.004738,
     "end_time": "2023-05-10T10:20:26.272320",
     "exception": false,
     "start_time": "2023-05-10T10:20:26.267582",
     "status": "completed"
    },
    "tags": []
   },
   "source": [
    "# **Create Pandas Series**"
   ]
  },
  {
   "cell_type": "code",
   "execution_count": 1,
   "id": "0cc30b49",
   "metadata": {
    "execution": {
     "iopub.execute_input": "2023-05-10T10:20:26.285040Z",
     "iopub.status.busy": "2023-05-10T10:20:26.283989Z",
     "iopub.status.idle": "2023-05-10T10:20:26.298985Z",
     "shell.execute_reply": "2023-05-10T10:20:26.297814Z"
    },
    "id": "lwH3JQJmsMTg",
    "papermill": {
     "duration": 0.024621,
     "end_time": "2023-05-10T10:20:26.301806",
     "exception": false,
     "start_time": "2023-05-10T10:20:26.277185",
     "status": "completed"
    },
    "tags": []
   },
   "outputs": [],
   "source": [
    "# import library\n",
    "\n",
    "import pandas as pd\n",
    "import numpy as np"
   ]
  },
  {
   "cell_type": "code",
   "execution_count": 2,
   "id": "eb6a126c",
   "metadata": {
    "execution": {
     "iopub.execute_input": "2023-05-10T10:20:26.314836Z",
     "iopub.status.busy": "2023-05-10T10:20:26.313975Z",
     "iopub.status.idle": "2023-05-10T10:20:26.329153Z",
     "shell.execute_reply": "2023-05-10T10:20:26.327950Z"
    },
    "id": "FUnHA3ntsRjt",
    "outputId": "673dd0bc-7fa0-4758-8e8b-ec0ff10bbe28",
    "papermill": {
     "duration": 0.024875,
     "end_time": "2023-05-10T10:20:26.332069",
     "exception": false,
     "start_time": "2023-05-10T10:20:26.307194",
     "status": "completed"
    },
    "tags": []
   },
   "outputs": [
    {
     "data": {
      "text/plain": [
       "0    1\n",
       "1    2\n",
       "2    3\n",
       "3    4\n",
       "4    5\n",
       "dtype: int64"
      ]
     },
     "execution_count": 2,
     "metadata": {},
     "output_type": "execute_result"
    }
   ],
   "source": [
    "# create series from list\n",
    "\n",
    "pd.Series([1,2,3,4,5])"
   ]
  },
  {
   "cell_type": "code",
   "execution_count": 3,
   "id": "7d2ffb5d",
   "metadata": {
    "execution": {
     "iopub.execute_input": "2023-05-10T10:20:26.344902Z",
     "iopub.status.busy": "2023-05-10T10:20:26.344406Z",
     "iopub.status.idle": "2023-05-10T10:20:26.353850Z",
     "shell.execute_reply": "2023-05-10T10:20:26.352643Z"
    },
    "id": "297sMWRgsVQv",
    "outputId": "9f76ddb1-27a3-456f-acc9-a5b229fe0e47",
    "papermill": {
     "duration": 0.018648,
     "end_time": "2023-05-10T10:20:26.356197",
     "exception": false,
     "start_time": "2023-05-10T10:20:26.337549",
     "status": "completed"
    },
    "tags": []
   },
   "outputs": [
    {
     "data": {
      "text/plain": [
       "0    1\n",
       "1    2\n",
       "2    3\n",
       "3    4\n",
       "4    5\n",
       "dtype: int64"
      ]
     },
     "execution_count": 3,
     "metadata": {},
     "output_type": "execute_result"
    }
   ],
   "source": [
    "# create series from list\n",
    "\n",
    "list = [1,2,3,4,5]\n",
    "series = pd.Series(list)\n",
    "series"
   ]
  },
  {
   "cell_type": "code",
   "execution_count": 4,
   "id": "46f3baa1",
   "metadata": {
    "execution": {
     "iopub.execute_input": "2023-05-10T10:20:26.370312Z",
     "iopub.status.busy": "2023-05-10T10:20:26.369083Z",
     "iopub.status.idle": "2023-05-10T10:20:26.378975Z",
     "shell.execute_reply": "2023-05-10T10:20:26.378066Z"
    },
    "id": "Apr4EFzpsaWZ",
    "outputId": "281a18b0-9d6c-4359-aeee-716492340be9",
    "papermill": {
     "duration": 0.019405,
     "end_time": "2023-05-10T10:20:26.381238",
     "exception": false,
     "start_time": "2023-05-10T10:20:26.361833",
     "status": "completed"
    },
    "tags": []
   },
   "outputs": [
    {
     "data": {
      "text/plain": [
       "0    10\n",
       "1    20\n",
       "2    30\n",
       "3    40\n",
       "4    50\n",
       "dtype: int64"
      ]
     },
     "execution_count": 4,
     "metadata": {},
     "output_type": "execute_result"
    }
   ],
   "source": [
    "# create series from array\n",
    "\n",
    "array = np.array([10,20,30,40,50])\n",
    "series = pd.Series(array)\n",
    "series"
   ]
  },
  {
   "cell_type": "code",
   "execution_count": 5,
   "id": "206b241e",
   "metadata": {
    "execution": {
     "iopub.execute_input": "2023-05-10T10:20:26.395274Z",
     "iopub.status.busy": "2023-05-10T10:20:26.394762Z",
     "iopub.status.idle": "2023-05-10T10:20:26.412812Z",
     "shell.execute_reply": "2023-05-10T10:20:26.411593Z"
    },
    "id": "tiyHIXpZtAbe",
    "outputId": "f2382a43-0333-4083-e674-570b7ab06d79",
    "papermill": {
     "duration": 0.028699,
     "end_time": "2023-05-10T10:20:26.415847",
     "exception": false,
     "start_time": "2023-05-10T10:20:26.387148",
     "status": "completed"
    },
    "tags": []
   },
   "outputs": [
    {
     "data": {
      "text/plain": [
       "a    10\n",
       "b    20\n",
       "d    30\n",
       "dtype: int64"
      ]
     },
     "execution_count": 5,
     "metadata": {},
     "output_type": "execute_result"
    }
   ],
   "source": [
    "# create series from dictionary\n",
    "\n",
    "dict = {'a': 10,'b': 20, 'd': 30}\n",
    "series = pd.Series(dict)\n",
    "series"
   ]
  },
  {
   "cell_type": "code",
   "execution_count": 6,
   "id": "a27ec9aa",
   "metadata": {
    "execution": {
     "iopub.execute_input": "2023-05-10T10:20:26.431600Z",
     "iopub.status.busy": "2023-05-10T10:20:26.431059Z",
     "iopub.status.idle": "2023-05-10T10:20:26.441742Z",
     "shell.execute_reply": "2023-05-10T10:20:26.440392Z"
    },
    "id": "o24nlZI5tjV_",
    "outputId": "5450034e-1884-47fe-fc2f-b5a174f83449",
    "papermill": {
     "duration": 0.021893,
     "end_time": "2023-05-10T10:20:26.444379",
     "exception": false,
     "start_time": "2023-05-10T10:20:26.422486",
     "status": "completed"
    },
    "tags": []
   },
   "outputs": [
    {
     "data": {
      "text/plain": [
       "0      0\n",
       "1      1\n",
       "2      2\n",
       "3      3\n",
       "4      4\n",
       "5      5\n",
       "6      6\n",
       "7      7\n",
       "8      8\n",
       "9      9\n",
       "10    10\n",
       "11    11\n",
       "12    12\n",
       "13    13\n",
       "14    14\n",
       "dtype: int64"
      ]
     },
     "execution_count": 6,
     "metadata": {},
     "output_type": "execute_result"
    }
   ],
   "source": [
    "# create series from range function\n",
    "\n",
    "series =pd.Series(range(15))\n",
    "series"
   ]
  },
  {
   "cell_type": "markdown",
   "id": "9f642eaa",
   "metadata": {
    "id": "OUQcAQfeNfd5",
    "papermill": {
     "duration": 0.006082,
     "end_time": "2023-05-10T10:20:26.457093",
     "exception": false,
     "start_time": "2023-05-10T10:20:26.451011",
     "status": "completed"
    },
    "tags": []
   },
   "source": [
    "# **Create Pandas DataFrame**"
   ]
  },
  {
   "cell_type": "code",
   "execution_count": 7,
   "id": "55c8d0af",
   "metadata": {
    "execution": {
     "iopub.execute_input": "2023-05-10T10:20:26.472507Z",
     "iopub.status.busy": "2023-05-10T10:20:26.471571Z",
     "iopub.status.idle": "2023-05-10T10:20:26.496191Z",
     "shell.execute_reply": "2023-05-10T10:20:26.495214Z"
    },
    "id": "hefDem4EuQkc",
    "outputId": "f894cdcf-92e2-4ef6-b922-cfd95aeeabaa",
    "papermill": {
     "duration": 0.035143,
     "end_time": "2023-05-10T10:20:26.498563",
     "exception": false,
     "start_time": "2023-05-10T10:20:26.463420",
     "status": "completed"
    },
    "tags": []
   },
   "outputs": [
    {
     "data": {
      "text/html": [
       "<div>\n",
       "<style scoped>\n",
       "    .dataframe tbody tr th:only-of-type {\n",
       "        vertical-align: middle;\n",
       "    }\n",
       "\n",
       "    .dataframe tbody tr th {\n",
       "        vertical-align: top;\n",
       "    }\n",
       "\n",
       "    .dataframe thead th {\n",
       "        text-align: right;\n",
       "    }\n",
       "</style>\n",
       "<table border=\"1\" class=\"dataframe\">\n",
       "  <thead>\n",
       "    <tr style=\"text-align: right;\">\n",
       "      <th></th>\n",
       "      <th>0</th>\n",
       "    </tr>\n",
       "  </thead>\n",
       "  <tbody>\n",
       "    <tr>\n",
       "      <th>0</th>\n",
       "      <td>1</td>\n",
       "    </tr>\n",
       "    <tr>\n",
       "      <th>1</th>\n",
       "      <td>2</td>\n",
       "    </tr>\n",
       "    <tr>\n",
       "      <th>2</th>\n",
       "      <td>3</td>\n",
       "    </tr>\n",
       "    <tr>\n",
       "      <th>3</th>\n",
       "      <td>4</td>\n",
       "    </tr>\n",
       "    <tr>\n",
       "      <th>4</th>\n",
       "      <td>5</td>\n",
       "    </tr>\n",
       "  </tbody>\n",
       "</table>\n",
       "</div>"
      ],
      "text/plain": [
       "   0\n",
       "0  1\n",
       "1  2\n",
       "2  3\n",
       "3  4\n",
       "4  5"
      ]
     },
     "execution_count": 7,
     "metadata": {},
     "output_type": "execute_result"
    }
   ],
   "source": [
    "# create dataframe from list\n",
    "\n",
    "pd.DataFrame([1,2,3,4,5])"
   ]
  },
  {
   "cell_type": "code",
   "execution_count": 8,
   "id": "85cd31a6",
   "metadata": {
    "execution": {
     "iopub.execute_input": "2023-05-10T10:20:26.514514Z",
     "iopub.status.busy": "2023-05-10T10:20:26.513680Z",
     "iopub.status.idle": "2023-05-10T10:20:26.526105Z",
     "shell.execute_reply": "2023-05-10T10:20:26.524871Z"
    },
    "id": "GN2eihcGPnMb",
    "outputId": "04e88e48-0f4d-4ee0-a05e-06785d9d3609",
    "papermill": {
     "duration": 0.023349,
     "end_time": "2023-05-10T10:20:26.528674",
     "exception": false,
     "start_time": "2023-05-10T10:20:26.505325",
     "status": "completed"
    },
    "tags": []
   },
   "outputs": [
    {
     "data": {
      "text/html": [
       "<div>\n",
       "<style scoped>\n",
       "    .dataframe tbody tr th:only-of-type {\n",
       "        vertical-align: middle;\n",
       "    }\n",
       "\n",
       "    .dataframe tbody tr th {\n",
       "        vertical-align: top;\n",
       "    }\n",
       "\n",
       "    .dataframe thead th {\n",
       "        text-align: right;\n",
       "    }\n",
       "</style>\n",
       "<table border=\"1\" class=\"dataframe\">\n",
       "  <thead>\n",
       "    <tr style=\"text-align: right;\">\n",
       "      <th></th>\n",
       "      <th>Number</th>\n",
       "    </tr>\n",
       "  </thead>\n",
       "  <tbody>\n",
       "    <tr>\n",
       "      <th>a</th>\n",
       "      <td>1</td>\n",
       "    </tr>\n",
       "    <tr>\n",
       "      <th>b</th>\n",
       "      <td>2</td>\n",
       "    </tr>\n",
       "    <tr>\n",
       "      <th>c</th>\n",
       "      <td>3</td>\n",
       "    </tr>\n",
       "    <tr>\n",
       "      <th>d</th>\n",
       "      <td>4</td>\n",
       "    </tr>\n",
       "    <tr>\n",
       "      <th>e</th>\n",
       "      <td>5</td>\n",
       "    </tr>\n",
       "  </tbody>\n",
       "</table>\n",
       "</div>"
      ],
      "text/plain": [
       "   Number\n",
       "a       1\n",
       "b       2\n",
       "c       3\n",
       "d       4\n",
       "e       5"
      ]
     },
     "execution_count": 8,
     "metadata": {},
     "output_type": "execute_result"
    }
   ],
   "source": [
    "# create dataframe from list with row and column index\n",
    "\n",
    "pd.DataFrame([1,2,3,4,5],index=['a','b','c','d','e'],columns=['Number'])"
   ]
  },
  {
   "cell_type": "code",
   "execution_count": 9,
   "id": "34692798",
   "metadata": {
    "execution": {
     "iopub.execute_input": "2023-05-10T10:20:26.545222Z",
     "iopub.status.busy": "2023-05-10T10:20:26.544731Z",
     "iopub.status.idle": "2023-05-10T10:20:26.557757Z",
     "shell.execute_reply": "2023-05-10T10:20:26.556533Z"
    },
    "id": "aT0mZRqZR-rq",
    "outputId": "042b1f92-0566-4df4-e348-9eefa5458ba6",
    "papermill": {
     "duration": 0.024577,
     "end_time": "2023-05-10T10:20:26.560294",
     "exception": false,
     "start_time": "2023-05-10T10:20:26.535717",
     "status": "completed"
    },
    "tags": []
   },
   "outputs": [
    {
     "data": {
      "text/html": [
       "<div>\n",
       "<style scoped>\n",
       "    .dataframe tbody tr th:only-of-type {\n",
       "        vertical-align: middle;\n",
       "    }\n",
       "\n",
       "    .dataframe tbody tr th {\n",
       "        vertical-align: top;\n",
       "    }\n",
       "\n",
       "    .dataframe thead th {\n",
       "        text-align: right;\n",
       "    }\n",
       "</style>\n",
       "<table border=\"1\" class=\"dataframe\">\n",
       "  <thead>\n",
       "    <tr style=\"text-align: right;\">\n",
       "      <th></th>\n",
       "      <th>Alphabet</th>\n",
       "      <th>Number</th>\n",
       "    </tr>\n",
       "  </thead>\n",
       "  <tbody>\n",
       "    <tr>\n",
       "      <th>0</th>\n",
       "      <td>a</td>\n",
       "      <td>25</td>\n",
       "    </tr>\n",
       "    <tr>\n",
       "      <th>1</th>\n",
       "      <td>b</td>\n",
       "      <td>30</td>\n",
       "    </tr>\n",
       "    <tr>\n",
       "      <th>2</th>\n",
       "      <td>c</td>\n",
       "      <td>26</td>\n",
       "    </tr>\n",
       "    <tr>\n",
       "      <th>3</th>\n",
       "      <td>d</td>\n",
       "      <td>22</td>\n",
       "    </tr>\n",
       "  </tbody>\n",
       "</table>\n",
       "</div>"
      ],
      "text/plain": [
       "  Alphabet  Number\n",
       "0        a      25\n",
       "1        b      30\n",
       "2        c      26\n",
       "3        d      22"
      ]
     },
     "execution_count": 9,
     "metadata": {},
     "output_type": "execute_result"
    }
   ],
   "source": [
    "# create dataframe with multiple columns\n",
    "\n",
    "list = [['a', 25],['b', 30],['c', 26],['d', 22]]\n",
    "pd.DataFrame(list,columns=['Alphabet','Number'])"
   ]
  },
  {
   "cell_type": "code",
   "execution_count": 10,
   "id": "633e4cc7",
   "metadata": {
    "execution": {
     "iopub.execute_input": "2023-05-10T10:20:26.577220Z",
     "iopub.status.busy": "2023-05-10T10:20:26.576274Z",
     "iopub.status.idle": "2023-05-10T10:20:26.589115Z",
     "shell.execute_reply": "2023-05-10T10:20:26.587916Z"
    },
    "id": "IQgtAWzgSbZd",
    "outputId": "e75fa05b-f76b-4e5f-c6cf-c14de5729d59",
    "papermill": {
     "duration": 0.024421,
     "end_time": "2023-05-10T10:20:26.591845",
     "exception": false,
     "start_time": "2023-05-10T10:20:26.567424",
     "status": "completed"
    },
    "tags": []
   },
   "outputs": [
    {
     "data": {
      "text/html": [
       "<div>\n",
       "<style scoped>\n",
       "    .dataframe tbody tr th:only-of-type {\n",
       "        vertical-align: middle;\n",
       "    }\n",
       "\n",
       "    .dataframe tbody tr th {\n",
       "        vertical-align: top;\n",
       "    }\n",
       "\n",
       "    .dataframe thead th {\n",
       "        text-align: right;\n",
       "    }\n",
       "</style>\n",
       "<table border=\"1\" class=\"dataframe\">\n",
       "  <thead>\n",
       "    <tr style=\"text-align: right;\">\n",
       "      <th></th>\n",
       "      <th>Alphabet</th>\n",
       "      <th>Number</th>\n",
       "    </tr>\n",
       "  </thead>\n",
       "  <tbody>\n",
       "    <tr>\n",
       "      <th>0</th>\n",
       "      <td>a</td>\n",
       "      <td>1</td>\n",
       "    </tr>\n",
       "    <tr>\n",
       "      <th>1</th>\n",
       "      <td>b</td>\n",
       "      <td>2</td>\n",
       "    </tr>\n",
       "    <tr>\n",
       "      <th>2</th>\n",
       "      <td>c</td>\n",
       "      <td>3</td>\n",
       "    </tr>\n",
       "    <tr>\n",
       "      <th>3</th>\n",
       "      <td>d</td>\n",
       "      <td>4</td>\n",
       "    </tr>\n",
       "    <tr>\n",
       "      <th>4</th>\n",
       "      <td>e</td>\n",
       "      <td>5</td>\n",
       "    </tr>\n",
       "  </tbody>\n",
       "</table>\n",
       "</div>"
      ],
      "text/plain": [
       "  Alphabet  Number\n",
       "0        a       1\n",
       "1        b       2\n",
       "2        c       3\n",
       "3        d       4\n",
       "4        e       5"
      ]
     },
     "execution_count": 10,
     "metadata": {},
     "output_type": "execute_result"
    }
   ],
   "source": [
    "# create dataframe from dictionary\n",
    "\n",
    "dict= {'Alphabet':['a','b','c','d','e'],'Number':[1,2,3,4,5]}\n",
    "pd.DataFrame(dict)"
   ]
  },
  {
   "cell_type": "code",
   "execution_count": 11,
   "id": "769136be",
   "metadata": {
    "execution": {
     "iopub.execute_input": "2023-05-10T10:20:26.609274Z",
     "iopub.status.busy": "2023-05-10T10:20:26.608673Z",
     "iopub.status.idle": "2023-05-10T10:20:26.620402Z",
     "shell.execute_reply": "2023-05-10T10:20:26.619218Z"
    },
    "id": "vHdFC2DWUBXi",
    "outputId": "f8cebcaf-4983-42b8-8e0e-2aac49e3a27e",
    "papermill": {
     "duration": 0.023145,
     "end_time": "2023-05-10T10:20:26.622845",
     "exception": false,
     "start_time": "2023-05-10T10:20:26.599700",
     "status": "completed"
    },
    "tags": []
   },
   "outputs": [
    {
     "data": {
      "text/html": [
       "<div>\n",
       "<style scoped>\n",
       "    .dataframe tbody tr th:only-of-type {\n",
       "        vertical-align: middle;\n",
       "    }\n",
       "\n",
       "    .dataframe tbody tr th {\n",
       "        vertical-align: top;\n",
       "    }\n",
       "\n",
       "    .dataframe thead th {\n",
       "        text-align: right;\n",
       "    }\n",
       "</style>\n",
       "<table border=\"1\" class=\"dataframe\">\n",
       "  <thead>\n",
       "    <tr style=\"text-align: right;\">\n",
       "      <th></th>\n",
       "      <th>Number</th>\n",
       "    </tr>\n",
       "  </thead>\n",
       "  <tbody>\n",
       "    <tr>\n",
       "      <th>0</th>\n",
       "      <td>1</td>\n",
       "    </tr>\n",
       "    <tr>\n",
       "      <th>1</th>\n",
       "      <td>2</td>\n",
       "    </tr>\n",
       "    <tr>\n",
       "      <th>2</th>\n",
       "      <td>3</td>\n",
       "    </tr>\n",
       "    <tr>\n",
       "      <th>3</th>\n",
       "      <td>4</td>\n",
       "    </tr>\n",
       "    <tr>\n",
       "      <th>4</th>\n",
       "      <td>5</td>\n",
       "    </tr>\n",
       "  </tbody>\n",
       "</table>\n",
       "</div>"
      ],
      "text/plain": [
       "   Number\n",
       "0       1\n",
       "1       2\n",
       "2       3\n",
       "3       4\n",
       "4       5"
      ]
     },
     "execution_count": 11,
     "metadata": {},
     "output_type": "execute_result"
    }
   ],
   "source": [
    "# create dataframe from array\n",
    "\n",
    "array = np.array([1,2,3,4,5])\n",
    "pd.DataFrame(array,columns=['Number'])"
   ]
  },
  {
   "cell_type": "code",
   "execution_count": 12,
   "id": "be8b3188",
   "metadata": {
    "execution": {
     "iopub.execute_input": "2023-05-10T10:20:26.641073Z",
     "iopub.status.busy": "2023-05-10T10:20:26.640578Z",
     "iopub.status.idle": "2023-05-10T10:20:26.652594Z",
     "shell.execute_reply": "2023-05-10T10:20:26.651444Z"
    },
    "id": "jyY7Q1rXSnsM",
    "outputId": "1d023093-529d-4eea-826e-79d10dcb8c28",
    "papermill": {
     "duration": 0.024156,
     "end_time": "2023-05-10T10:20:26.654885",
     "exception": false,
     "start_time": "2023-05-10T10:20:26.630729",
     "status": "completed"
    },
    "tags": []
   },
   "outputs": [
    {
     "data": {
      "text/html": [
       "<div>\n",
       "<style scoped>\n",
       "    .dataframe tbody tr th:only-of-type {\n",
       "        vertical-align: middle;\n",
       "    }\n",
       "\n",
       "    .dataframe tbody tr th {\n",
       "        vertical-align: top;\n",
       "    }\n",
       "\n",
       "    .dataframe thead th {\n",
       "        text-align: right;\n",
       "    }\n",
       "</style>\n",
       "<table border=\"1\" class=\"dataframe\">\n",
       "  <thead>\n",
       "    <tr style=\"text-align: right;\">\n",
       "      <th></th>\n",
       "      <th>Number</th>\n",
       "      <th>Square</th>\n",
       "    </tr>\n",
       "  </thead>\n",
       "  <tbody>\n",
       "    <tr>\n",
       "      <th>0</th>\n",
       "      <td>1</td>\n",
       "      <td>1</td>\n",
       "    </tr>\n",
       "    <tr>\n",
       "      <th>1</th>\n",
       "      <td>2</td>\n",
       "      <td>4</td>\n",
       "    </tr>\n",
       "    <tr>\n",
       "      <th>2</th>\n",
       "      <td>3</td>\n",
       "      <td>9</td>\n",
       "    </tr>\n",
       "    <tr>\n",
       "      <th>3</th>\n",
       "      <td>4</td>\n",
       "      <td>16</td>\n",
       "    </tr>\n",
       "    <tr>\n",
       "      <th>4</th>\n",
       "      <td>5</td>\n",
       "      <td>25</td>\n",
       "    </tr>\n",
       "  </tbody>\n",
       "</table>\n",
       "</div>"
      ],
      "text/plain": [
       "   Number  Square\n",
       "0       1       1\n",
       "1       2       4\n",
       "2       3       9\n",
       "3       4      16\n",
       "4       5      25"
      ]
     },
     "execution_count": 12,
     "metadata": {},
     "output_type": "execute_result"
    }
   ],
   "source": [
    "# create dataframe from array\n",
    "\n",
    "array = np.array([[1,1],[2,4],[3,9],[4,16],[5,25]])\n",
    "pd.DataFrame(array,columns=['Number','Square'])\n",
    "    "
   ]
  },
  {
   "cell_type": "code",
   "execution_count": 13,
   "id": "7e201ab1",
   "metadata": {
    "execution": {
     "iopub.execute_input": "2023-05-10T10:20:26.673680Z",
     "iopub.status.busy": "2023-05-10T10:20:26.672925Z",
     "iopub.status.idle": "2023-05-10T10:20:26.683349Z",
     "shell.execute_reply": "2023-05-10T10:20:26.682422Z"
    },
    "id": "i7FxNTFSUMz6",
    "outputId": "5f4cf45b-cd51-43c2-cfa4-c2634d548e48",
    "papermill": {
     "duration": 0.022792,
     "end_time": "2023-05-10T10:20:26.685638",
     "exception": false,
     "start_time": "2023-05-10T10:20:26.662846",
     "status": "completed"
    },
    "tags": []
   },
   "outputs": [
    {
     "data": {
      "text/html": [
       "<div>\n",
       "<style scoped>\n",
       "    .dataframe tbody tr th:only-of-type {\n",
       "        vertical-align: middle;\n",
       "    }\n",
       "\n",
       "    .dataframe tbody tr th {\n",
       "        vertical-align: top;\n",
       "    }\n",
       "\n",
       "    .dataframe thead th {\n",
       "        text-align: right;\n",
       "    }\n",
       "</style>\n",
       "<table border=\"1\" class=\"dataframe\">\n",
       "  <thead>\n",
       "    <tr style=\"text-align: right;\">\n",
       "      <th></th>\n",
       "      <th>0</th>\n",
       "    </tr>\n",
       "  </thead>\n",
       "  <tbody>\n",
       "    <tr>\n",
       "      <th>0</th>\n",
       "      <td>0</td>\n",
       "    </tr>\n",
       "    <tr>\n",
       "      <th>1</th>\n",
       "      <td>1</td>\n",
       "    </tr>\n",
       "    <tr>\n",
       "      <th>2</th>\n",
       "      <td>2</td>\n",
       "    </tr>\n",
       "    <tr>\n",
       "      <th>3</th>\n",
       "      <td>3</td>\n",
       "    </tr>\n",
       "    <tr>\n",
       "      <th>4</th>\n",
       "      <td>4</td>\n",
       "    </tr>\n",
       "  </tbody>\n",
       "</table>\n",
       "</div>"
      ],
      "text/plain": [
       "   0\n",
       "0  0\n",
       "1  1\n",
       "2  2\n",
       "3  3\n",
       "4  4"
      ]
     },
     "execution_count": 13,
     "metadata": {},
     "output_type": "execute_result"
    }
   ],
   "source": [
    "# create dataframe from range function\n",
    "\n",
    "pd.DataFrame(range(5))"
   ]
  }
 ],
 "metadata": {
  "kernelspec": {
   "display_name": "Python 3",
   "language": "python",
   "name": "python3"
  },
  "language_info": {
   "codemirror_mode": {
    "name": "ipython",
    "version": 3
   },
   "file_extension": ".py",
   "mimetype": "text/x-python",
   "name": "python",
   "nbconvert_exporter": "python",
   "pygments_lexer": "ipython3",
   "version": "3.10.10"
  },
  "papermill": {
   "default_parameters": {},
   "duration": 14.609333,
   "end_time": "2023-05-10T10:20:27.919025",
   "environment_variables": {},
   "exception": null,
   "input_path": "__notebook__.ipynb",
   "output_path": "__notebook__.ipynb",
   "parameters": {},
   "start_time": "2023-05-10T10:20:13.309692",
   "version": "2.4.0"
  }
 },
 "nbformat": 4,
 "nbformat_minor": 5
}
